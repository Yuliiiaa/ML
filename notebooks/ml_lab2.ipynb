{
 "cells": [
  {
   "cell_type": "markdown",
   "id": "2bee41a1",
   "metadata": {},
   "source": [
    "# Importing libraries"
   ]
  },
  {
   "cell_type": "code",
   "execution_count": 1,
   "id": "ec684394",
   "metadata": {},
   "outputs": [],
   "source": [
    "import pandas as pd\n",
    "import numpy as np\n",
    "import matplotlib.pyplot as plt\n",
    "import seaborn as sns\n",
    "from sklearn.model_selection import train_test_split, GridSearchCV, cross_val_score\n",
    "from sklearn.preprocessing import PowerTransformer, OneHotEncoder\n",
    "from sklearn.discriminant_analysis import StandardScaler\n",
    "from sklearn.pipeline import Pipeline\n",
    "from sklearn.compose import ColumnTransformer\n",
    "from sklearn.metrics import classification_report, confusion_matrix, accuracy_score\n",
    "from sklearn.linear_model import LogisticRegression\n",
    "from sklearn.neighbors import KNeighborsClassifier\n",
    "from sklearn.ensemble import RandomForestClassifier, GradientBoostingClassifier\n",
    "from imblearn.over_sampling import SMOTE\n",
    "import joblib"
   ]
  },
  {
   "cell_type": "markdown",
   "id": "38efee9b",
   "metadata": {},
   "source": [
    "### Import custom DNN"
   ]
  },
  {
   "cell_type": "code",
   "execution_count": 2,
   "id": "ae721d67",
   "metadata": {},
   "outputs": [],
   "source": [
    "import sys\n",
    "import os\n",
    "sys.path.append(os.path.abspath(\"../models\"))\n",
    "\n",
    "from NN import NeuralNet"
   ]
  },
  {
   "cell_type": "markdown",
   "id": "5dc0f8d7",
   "metadata": {},
   "source": [
    "# Data Exploration"
   ]
  },
  {
   "cell_type": "code",
   "execution_count": 3,
   "id": "89b645c6",
   "metadata": {},
   "outputs": [
    {
     "name": "stdout",
     "output_type": "stream",
     "text": [
      "Dataset shape: (214, 10)\n"
     ]
    }
   ],
   "source": [
    "df = pd.read_csv('../data/glass.csv')\n",
    "print(\"Dataset shape:\", df.shape)"
   ]
  },
  {
   "cell_type": "code",
   "execution_count": 4,
   "id": "efed476d",
   "metadata": {},
   "outputs": [
    {
     "name": "stdout",
     "output_type": "stream",
     "text": [
      "        RI     Na    Mg    Al     Si     K    Ca   Ba   Fe  Type\n",
      "0  1.52101  13.64  4.49  1.10  71.78  0.06  8.75  0.0  0.0     1\n",
      "1  1.51761  13.89  3.60  1.36  72.73  0.48  7.83  0.0  0.0     1\n",
      "2  1.51618  13.53  3.55  1.54  72.99  0.39  7.78  0.0  0.0     1\n",
      "3  1.51766  13.21  3.69  1.29  72.61  0.57  8.22  0.0  0.0     1\n",
      "4  1.51742  13.27  3.62  1.24  73.08  0.55  8.07  0.0  0.0     1\n"
     ]
    }
   ],
   "source": [
    "print(df.head())"
   ]
  },
  {
   "cell_type": "code",
   "execution_count": 5,
   "id": "15737224",
   "metadata": {},
   "outputs": [
    {
     "name": "stdout",
     "output_type": "stream",
     "text": [
      "<class 'pandas.core.frame.DataFrame'>\n",
      "RangeIndex: 214 entries, 0 to 213\n",
      "Data columns (total 10 columns):\n",
      " #   Column  Non-Null Count  Dtype  \n",
      "---  ------  --------------  -----  \n",
      " 0   RI      214 non-null    float64\n",
      " 1   Na      214 non-null    float64\n",
      " 2   Mg      214 non-null    float64\n",
      " 3   Al      214 non-null    float64\n",
      " 4   Si      214 non-null    float64\n",
      " 5   K       214 non-null    float64\n",
      " 6   Ca      214 non-null    float64\n",
      " 7   Ba      214 non-null    float64\n",
      " 8   Fe      214 non-null    float64\n",
      " 9   Type    214 non-null    int64  \n",
      "dtypes: float64(9), int64(1)\n",
      "memory usage: 16.8 KB\n"
     ]
    }
   ],
   "source": [
    "df.info()"
   ]
  },
  {
   "cell_type": "markdown",
   "id": "531a81fa",
   "metadata": {},
   "source": [
    "Пропущених значень не виявлено, а всі ознаки числові."
   ]
  },
  {
   "cell_type": "code",
   "execution_count": 6,
   "id": "5b48140b",
   "metadata": {},
   "outputs": [
    {
     "data": {
      "text/html": [
       "<div>\n",
       "<style scoped>\n",
       "    .dataframe tbody tr th:only-of-type {\n",
       "        vertical-align: middle;\n",
       "    }\n",
       "\n",
       "    .dataframe tbody tr th {\n",
       "        vertical-align: top;\n",
       "    }\n",
       "\n",
       "    .dataframe thead th {\n",
       "        text-align: right;\n",
       "    }\n",
       "</style>\n",
       "<table border=\"1\" class=\"dataframe\">\n",
       "  <thead>\n",
       "    <tr style=\"text-align: right;\">\n",
       "      <th></th>\n",
       "      <th>RI</th>\n",
       "      <th>Na</th>\n",
       "      <th>Mg</th>\n",
       "      <th>Al</th>\n",
       "      <th>Si</th>\n",
       "      <th>K</th>\n",
       "      <th>Ca</th>\n",
       "      <th>Ba</th>\n",
       "      <th>Fe</th>\n",
       "      <th>Type</th>\n",
       "    </tr>\n",
       "  </thead>\n",
       "  <tbody>\n",
       "    <tr>\n",
       "      <th>count</th>\n",
       "      <td>214.000000</td>\n",
       "      <td>214.000000</td>\n",
       "      <td>214.000000</td>\n",
       "      <td>214.000000</td>\n",
       "      <td>214.000000</td>\n",
       "      <td>214.000000</td>\n",
       "      <td>214.000000</td>\n",
       "      <td>214.000000</td>\n",
       "      <td>214.000000</td>\n",
       "      <td>214.000000</td>\n",
       "    </tr>\n",
       "    <tr>\n",
       "      <th>mean</th>\n",
       "      <td>1.518365</td>\n",
       "      <td>13.407850</td>\n",
       "      <td>2.684533</td>\n",
       "      <td>1.444907</td>\n",
       "      <td>72.650935</td>\n",
       "      <td>0.497056</td>\n",
       "      <td>8.956963</td>\n",
       "      <td>0.175047</td>\n",
       "      <td>0.057009</td>\n",
       "      <td>2.780374</td>\n",
       "    </tr>\n",
       "    <tr>\n",
       "      <th>std</th>\n",
       "      <td>0.003037</td>\n",
       "      <td>0.816604</td>\n",
       "      <td>1.442408</td>\n",
       "      <td>0.499270</td>\n",
       "      <td>0.774546</td>\n",
       "      <td>0.652192</td>\n",
       "      <td>1.423153</td>\n",
       "      <td>0.497219</td>\n",
       "      <td>0.097439</td>\n",
       "      <td>2.103739</td>\n",
       "    </tr>\n",
       "    <tr>\n",
       "      <th>min</th>\n",
       "      <td>1.511150</td>\n",
       "      <td>10.730000</td>\n",
       "      <td>0.000000</td>\n",
       "      <td>0.290000</td>\n",
       "      <td>69.810000</td>\n",
       "      <td>0.000000</td>\n",
       "      <td>5.430000</td>\n",
       "      <td>0.000000</td>\n",
       "      <td>0.000000</td>\n",
       "      <td>1.000000</td>\n",
       "    </tr>\n",
       "    <tr>\n",
       "      <th>25%</th>\n",
       "      <td>1.516522</td>\n",
       "      <td>12.907500</td>\n",
       "      <td>2.115000</td>\n",
       "      <td>1.190000</td>\n",
       "      <td>72.280000</td>\n",
       "      <td>0.122500</td>\n",
       "      <td>8.240000</td>\n",
       "      <td>0.000000</td>\n",
       "      <td>0.000000</td>\n",
       "      <td>1.000000</td>\n",
       "    </tr>\n",
       "    <tr>\n",
       "      <th>50%</th>\n",
       "      <td>1.517680</td>\n",
       "      <td>13.300000</td>\n",
       "      <td>3.480000</td>\n",
       "      <td>1.360000</td>\n",
       "      <td>72.790000</td>\n",
       "      <td>0.555000</td>\n",
       "      <td>8.600000</td>\n",
       "      <td>0.000000</td>\n",
       "      <td>0.000000</td>\n",
       "      <td>2.000000</td>\n",
       "    </tr>\n",
       "    <tr>\n",
       "      <th>75%</th>\n",
       "      <td>1.519157</td>\n",
       "      <td>13.825000</td>\n",
       "      <td>3.600000</td>\n",
       "      <td>1.630000</td>\n",
       "      <td>73.087500</td>\n",
       "      <td>0.610000</td>\n",
       "      <td>9.172500</td>\n",
       "      <td>0.000000</td>\n",
       "      <td>0.100000</td>\n",
       "      <td>3.000000</td>\n",
       "    </tr>\n",
       "    <tr>\n",
       "      <th>max</th>\n",
       "      <td>1.533930</td>\n",
       "      <td>17.380000</td>\n",
       "      <td>4.490000</td>\n",
       "      <td>3.500000</td>\n",
       "      <td>75.410000</td>\n",
       "      <td>6.210000</td>\n",
       "      <td>16.190000</td>\n",
       "      <td>3.150000</td>\n",
       "      <td>0.510000</td>\n",
       "      <td>7.000000</td>\n",
       "    </tr>\n",
       "  </tbody>\n",
       "</table>\n",
       "</div>"
      ],
      "text/plain": [
       "               RI          Na          Mg          Al          Si           K  \\\n",
       "count  214.000000  214.000000  214.000000  214.000000  214.000000  214.000000   \n",
       "mean     1.518365   13.407850    2.684533    1.444907   72.650935    0.497056   \n",
       "std      0.003037    0.816604    1.442408    0.499270    0.774546    0.652192   \n",
       "min      1.511150   10.730000    0.000000    0.290000   69.810000    0.000000   \n",
       "25%      1.516522   12.907500    2.115000    1.190000   72.280000    0.122500   \n",
       "50%      1.517680   13.300000    3.480000    1.360000   72.790000    0.555000   \n",
       "75%      1.519157   13.825000    3.600000    1.630000   73.087500    0.610000   \n",
       "max      1.533930   17.380000    4.490000    3.500000   75.410000    6.210000   \n",
       "\n",
       "               Ca          Ba          Fe        Type  \n",
       "count  214.000000  214.000000  214.000000  214.000000  \n",
       "mean     8.956963    0.175047    0.057009    2.780374  \n",
       "std      1.423153    0.497219    0.097439    2.103739  \n",
       "min      5.430000    0.000000    0.000000    1.000000  \n",
       "25%      8.240000    0.000000    0.000000    1.000000  \n",
       "50%      8.600000    0.000000    0.000000    2.000000  \n",
       "75%      9.172500    0.000000    0.100000    3.000000  \n",
       "max     16.190000    3.150000    0.510000    7.000000  "
      ]
     },
     "execution_count": 6,
     "metadata": {},
     "output_type": "execute_result"
    }
   ],
   "source": [
    "df.describe()"
   ]
  },
  {
   "cell_type": "markdown",
   "id": "ddc98bdb",
   "metadata": {},
   "source": [
    "Ненормальні розподіли у колонках 'Ba' та 'Fe', може вплинути на якість моделі. Великі значення 'Si' адже це основний компонент скла."
   ]
  },
  {
   "cell_type": "code",
   "execution_count": 7,
   "id": "c3671576",
   "metadata": {},
   "outputs": [
    {
     "name": "stdout",
     "output_type": "stream",
     "text": [
      "Class distribution:\n",
      " Type\n",
      "2    76\n",
      "1    70\n",
      "7    29\n",
      "3    17\n",
      "5    13\n",
      "6     9\n",
      "Name: count, dtype: int64\n"
     ]
    },
    {
     "name": "stderr",
     "output_type": "stream",
     "text": [
      "/var/folders/s_/8hj1mz7936v_r35_6yq1g5jc0000gp/T/ipykernel_60075/3069970884.py:3: FutureWarning: \n",
      "\n",
      "Passing `palette` without assigning `hue` is deprecated and will be removed in v0.14.0. Assign the `x` variable to `hue` and set `legend=False` for the same effect.\n",
      "\n",
      "  sns.countplot(x='Type', data=df, palette='Set1')\n"
     ]
    },
    {
     "data": {
      "image/png": "[encoded data removed]",
      "text/plain": [
       "<Figure size 640x480 with 1 Axes>"
      ]
     },
     "metadata": {},
     "output_type": "display_data"
    }
   ],
   "source": [
    "print(\"Class distribution:\\n\", df['Type'].value_counts())\n",
    "\n",
    "sns.countplot(x='Type', data=df, palette='Set1')\n",
    "plt.show()"
   ]
  },
  {
   "cell_type": "markdown",
   "id": "3fb48cb2",
   "metadata": {},
   "source": [
    "Сильно не збалансовані класи, можна використати SMOTE оверсемплінг."
   ]
  },
  {
   "cell_type": "code",
   "execution_count": 8,
   "id": "18f31efe",
   "metadata": {},
   "outputs": [
    {
     "data": {
      "image/png": "[encoded data removed]",
      "text/plain": [
       "<Figure size 1000x800 with 2 Axes>"
      ]
     },
     "metadata": {},
     "output_type": "display_data"
    }
   ],
   "source": [
    "# Correlation matrix\n",
    "corr = df.drop('Type', axis=1).corr()\n",
    "plt.figure(figsize=(10, 8))\n",
    "sns.heatmap(corr, annot=True, fmt=\".2f\", cmap='coolwarm')\n",
    "plt.title('Feature Correlation Matrix')\n",
    "plt.show()"
   ]
  },
  {
   "cell_type": "markdown",
   "id": "b3086b0b",
   "metadata": {},
   "source": [
    "Сильна кореляція між 'RI' та 'Ca', якщо експериментально підтвердиться, що якість моделі зростає без 'Ca', тоді можна позбутись 'Ca'."
   ]
  },
  {
   "cell_type": "code",
   "execution_count": 9,
   "id": "a6a18f90",
   "metadata": {},
   "outputs": [
    {
     "data": {
      "image/png": "[encoded data removed]",
      "text/plain": [
       "<Figure size 1500x1000 with 9 Axes>"
      ]
     },
     "metadata": {},
     "output_type": "display_data"
    }
   ],
   "source": [
    "# Distributions of features\n",
    "df.drop('Type', axis=1).hist(bins=15, figsize=(15, 10), edgecolor='black')\n",
    "plt.suptitle('Feature Distributions')\n",
    "plt.show()"
   ]
  },
  {
   "cell_type": "markdown",
   "id": "30e2e12b",
   "metadata": {},
   "source": [
    "Дані потребують приведення до нормального розподілу."
   ]
  },
  {
   "cell_type": "markdown",
   "id": "2fe6aa3d",
   "metadata": {},
   "source": [
    "# Data Preprocessing\n",
    "### Функція для заміни аномалій\n",
    "Функція замінює викиди у вибраних колонках за допомогою методу IQR, обмежуючи значення межами нижнього та верхнього квартилів, а потім застосовується до всіх ознак окрім цільової.\n"
   ]
  },
  {
   "cell_type": "code",
   "execution_count": 10,
   "id": "a3f2c790",
   "metadata": {},
   "outputs": [],
   "source": [
    "def replace_outliers_iqr(df, features, k=1.5):\n",
    "    capped = df.copy()\n",
    "    for col in features:\n",
    "        Q1 = capped[col].quantile(0.25)\n",
    "        Q3 = capped[col].quantile(0.75)\n",
    "        IQR = Q3 - Q1\n",
    "        lower = Q1 - k * IQR\n",
    "        upper = Q3 + k * IQR\n",
    "        capped[col] = np.where(capped[col] < lower, lower,\n",
    "                               np.where(capped[col] > upper, upper, capped[col]))\n",
    "    return capped\n",
    "\n",
    "features = df.columns.drop('Type')\n",
    "data_clean = replace_outliers_iqr(df, features)"
   ]
  },
  {
   "cell_type": "code",
   "execution_count": 11,
   "id": "ac300aca",
   "metadata": {},
   "outputs": [],
   "source": [
    "y = data_clean['Type']\n",
    "X = data_clean.drop(['Type'], axis=1)"
   ]
  },
  {
   "cell_type": "markdown",
   "id": "00d1cdec",
   "metadata": {},
   "source": [
    "### Розбиття даних на підвибірки"
   ]
  },
  {
   "cell_type": "code",
   "execution_count": 12,
   "id": "2d997485",
   "metadata": {},
   "outputs": [],
   "source": [
    "X_train, X_test, y_train, y_test = train_test_split(\n",
    "    X, y, test_size=0.2, stratify=y, random_state=42\n",
    ")"
   ]
  },
  {
   "cell_type": "markdown",
   "id": "22676591",
   "metadata": {},
   "source": [
    "### Оверсемплінг"
   ]
  },
  {
   "cell_type": "code",
   "execution_count": 13,
   "id": "3220ffa8",
   "metadata": {},
   "outputs": [
    {
     "name": "stderr",
     "output_type": "stream",
     "text": [
      "/var/folders/s_/8hj1mz7936v_r35_6yq1g5jc0000gp/T/ipykernel_60075/819988834.py:4: FutureWarning: \n",
      "\n",
      "Passing `palette` without assigning `hue` is deprecated and will be removed in v0.14.0. Assign the `x` variable to `hue` and set `legend=False` for the same effect.\n",
      "\n",
      "  sns.countplot(x=y_train, palette=\"Set2\")\n"
     ]
    },
    {
     "data": {
      "image/png": "[encoded data removed]",
      "text/plain": [
       "<Figure size 640x480 with 1 Axes>"
      ]
     },
     "metadata": {},
     "output_type": "display_data"
    }
   ],
   "source": [
    "smote = SMOTE(random_state=42)\n",
    "X_train, y_train = smote.fit_resample(X_train, y_train)\n",
    "\n",
    "sns.countplot(x=y_train, palette=\"Set2\")\n",
    "plt.show()"
   ]
  },
  {
   "cell_type": "markdown",
   "id": "a7a4e53d",
   "metadata": {},
   "source": [
    "Класи збалансовані"
   ]
  },
  {
   "cell_type": "markdown",
   "id": "1e671326",
   "metadata": {},
   "source": [
    "## Model Selection"
   ]
  },
  {
   "cell_type": "markdown",
   "id": "c7f12660",
   "metadata": {},
   "source": [
    "Перевіряємо точність кількох класифікаторів із попередньою трансформацією даних Yeo-Johnson, використовуючи крос-валідацію, та визначаємо найкращу модель за середньою точністю.\n",
    "\n",
    "Yeo-Johnson трансформація застосовується для стабілізації дисперсії та наближення розподілу ознак до нормального. На відміну від Box-Cox, Yeo-Johnson працює з нульовими та від’ємними значеннями."
   ]
  },
  {
   "cell_type": "code",
   "execution_count": 14,
   "id": "80d2e144",
   "metadata": {},
   "outputs": [],
   "source": [
    "classifiers = {\n",
    "    'Logistic Regression': LogisticRegression(max_iter=500, random_state=42),\n",
    "    'KNN': KNeighborsClassifier(),\n",
    "    'Random Forest': RandomForestClassifier(random_state=42),\n",
    "    'Gradient Boosting': GradientBoostingClassifier(random_state=42)\n",
    "}"
   ]
  },
  {
   "cell_type": "code",
   "execution_count": 15,
   "id": "49504c58",
   "metadata": {},
   "outputs": [
    {
     "name": "stdout",
     "output_type": "stream",
     "text": [
      "Logistic Regression: Mean CV Accuracy = 0.7352\n",
      "KNN: Mean CV Accuracy = 0.7899\n",
      "Random Forest: Mean CV Accuracy = 0.8745\n",
      "Gradient Boosting: Mean CV Accuracy = 0.8745\n"
     ]
    }
   ],
   "source": [
    "results = {}\n",
    "for name, clf in classifiers.items():\n",
    "    model = Pipeline(steps=[\n",
    "        ('preprocessor', PowerTransformer('yeo-johnson')),\n",
    "        ('classifier', clf)\n",
    "    ])\n",
    "    scores = cross_val_score(model, X_train, y_train, cv=5, scoring='accuracy')\n",
    "    results[name] = scores.mean()\n",
    "    print(f\"{name}: Mean CV Accuracy = {scores.mean():.4f}\")"
   ]
  },
  {
   "cell_type": "code",
   "execution_count": 16,
   "id": "5bbed76a",
   "metadata": {},
   "outputs": [
    {
     "name": "stdout",
     "output_type": "stream",
     "text": [
      "\n",
      "Best model based on CV accuracy: Gradient Boosting\n"
     ]
    }
   ],
   "source": [
    "best_model_name = max(results, key=results.get)\n",
    "print(f\"\\nBest model based on CV accuracy: {best_model_name}\")\n"
   ]
  },
  {
   "cell_type": "markdown",
   "id": "97b87e84",
   "metadata": {},
   "source": [
    "## Feature Selection"
   ]
  },
  {
   "cell_type": "markdown",
   "id": "12ea6f21",
   "metadata": {},
   "source": [
    "Визначаємо важливість ознак моделі (Random Forest), візуалізуємо їх, потім поетапно оцінюємо точність моделі з різною кількістю найважливіших ознак за допомогою крос-валідації та будуємо відповідний графік. Далі формуємо новий препроцесор і вибираємо лише ці відфільтровані ознаки для подальшого навчання."
   ]
  },
  {
   "cell_type": "code",
   "execution_count": 17,
   "id": "cca2d5fb",
   "metadata": {},
   "outputs": [],
   "source": [
    "importances = classifiers[best_model_name].fit(X_train, y_train).feature_importances_\n",
    "feature_names = X.columns\n",
    "\n",
    "importance_df = pd.DataFrame({\n",
    "    'feature': feature_names,\n",
    "    'importance': importances\n",
    "})"
   ]
  },
  {
   "cell_type": "code",
   "execution_count": 18,
   "id": "f70c706a",
   "metadata": {},
   "outputs": [
    {
     "data": {
      "image/png": "[encoded data removed]",
      "text/plain": [
       "<Figure size 1000x600 with 1 Axes>"
      ]
     },
     "metadata": {},
     "output_type": "display_data"
    }
   ],
   "source": [
    "importance_df = importance_df.sort_values(by='importance', ascending=False)\n",
    "\n",
    "plt.figure(figsize=(10, 6))\n",
    "sns.barplot(x='importance', y='feature', data=importance_df)\n",
    "plt.title('Feature Importances (Random Forest)')\n",
    "plt.xlabel('Importance')\n",
    "plt.ylabel('Feature')\n",
    "plt.tight_layout()\n",
    "plt.show()"
   ]
  },
  {
   "cell_type": "code",
   "execution_count": 19,
   "id": "393aa123",
   "metadata": {},
   "outputs": [
    {
     "data": {
      "image/png": "[encoded data removed]",
      "text/plain": [
       "<Figure size 640x480 with 1 Axes>"
      ]
     },
     "metadata": {},
     "output_type": "display_data"
    }
   ],
   "source": [
    "sorted_features = importance_df.sort_values('importance', ascending=False)['feature'].tolist()\n",
    "\n",
    "results = []\n",
    "for k in range(1, len(sorted_features) + 1):\n",
    "    selected = sorted_features[:k]\n",
    "    \n",
    "    model = RandomForestClassifier(random_state=42)\n",
    "    scores = cross_val_score(model, X_train[selected], y_train, cv=5, scoring='accuracy')\n",
    "    results.append((k, scores.mean()))\n",
    "\n",
    "# Графік\n",
    "ks, accs = zip(*results)\n",
    "plt.plot(ks, accs, marker='o')\n",
    "plt.xlabel('Кількість фіч')\n",
    "plt.ylabel('CV Accuracy')\n",
    "plt.title('Accuracy vs Кількість фіч')\n",
    "plt.grid()\n",
    "plt.show()"
   ]
  },
  {
   "cell_type": "code",
   "execution_count": 20,
   "id": "3c8039e0",
   "metadata": {},
   "outputs": [
    {
     "name": "stdout",
     "output_type": "stream",
     "text": [
      "\n",
      "Selected features with importance > 0.05:\n",
      "['Mg', 'Ca', 'K', 'Al', 'RI', 'Si', 'Na', 'Ba']\n"
     ]
    }
   ],
   "source": [
    "selected_features = importance_df[importance_df['importance'] > 0.03]['feature'].tolist()\n",
    "selected_features.append('Ba') # додаю 'Ba' назад через експериментально доведений приріст якості класифікації\n",
    "\n",
    "print(\"\\nSelected features with importance > 0.05:\")\n",
    "print(selected_features)"
   ]
  },
  {
   "cell_type": "code",
   "execution_count": 21,
   "id": "677f8b91",
   "metadata": {},
   "outputs": [],
   "source": [
    "X_train_selected = X_train[selected_features]\n",
    "X_test_selected = X_test[selected_features]"
   ]
  },
  {
   "cell_type": "markdown",
   "id": "535375f8",
   "metadata": {},
   "source": [
    "### Перероблюємо препроцесор"
   ]
  },
  {
   "cell_type": "code",
   "execution_count": 22,
   "id": "f018595c",
   "metadata": {},
   "outputs": [],
   "source": [
    "numeric_features_selected = selected_features\n",
    "\n",
    "numeric_transformer = Pipeline(steps=[\n",
    "    ('power', PowerTransformer(method='yeo-johnson'))\n",
    "])\n",
    "\n",
    "preprocessor = ColumnTransformer(\n",
    "    transformers=[\n",
    "        ('num', numeric_transformer, numeric_features_selected)\n",
    "    ]\n",
    ")"
   ]
  },
  {
   "cell_type": "markdown",
   "id": "5fd09fc1",
   "metadata": {},
   "source": [
    "## Hyperparameter Tuning"
   ]
  },
  {
   "cell_type": "markdown",
   "id": "faf1fe69",
   "metadata": {},
   "source": [
    "Проводимо пошук найкращих гіперпараметрів для Random Forest за допомогою GridSearchCV, після чого створюємо фінальний пайплайн з оптимізованою моделлю і тренуємо його на всіх тренувальних даних.\n"
   ]
  },
  {
   "cell_type": "code",
   "execution_count": 23,
   "id": "0d1201d1",
   "metadata": {},
   "outputs": [],
   "source": [
    "param_grid = {\n",
    "    'n_estimators': [50, 100, 200],\n",
    "    'max_depth': [None, 10, 20, 30],\n",
    "    'bootstrap': [True, False],\n",
    "    'class_weight': ['balanced', 'balanced_subsample'] \n",
    "}\n",
    "\n",
    "grid_search = GridSearchCV(estimator=RandomForestClassifier(random_state=42), param_grid=param_grid, scoring='accuracy', cv=5, n_jobs=-1)"
   ]
  },
  {
   "cell_type": "code",
   "execution_count": 24,
   "id": "bade04e8",
   "metadata": {},
   "outputs": [
    {
     "name": "stdout",
     "output_type": "stream",
     "text": [
      "Best parameters: {'bootstrap': False, 'class_weight': 'balanced', 'max_depth': None, 'n_estimators': 200}\n",
      "Best cross-validation accuracy: 0.8990\n"
     ]
    }
   ],
   "source": [
    "grid_search.fit(X_train, y_train)\n",
    "\n",
    "print(f\"Best parameters: {grid_search.best_params_}\")\n",
    "print(f\"Best cross-validation accuracy: {grid_search.best_score_:.4f}\")\n",
    "\n",
    "best_rf_model = grid_search.best_estimator_"
   ]
  },
  {
   "cell_type": "code",
   "execution_count": 25,
   "id": "94dd5250",
   "metadata": {},
   "outputs": [
    {
     "data": {
      "text/html": [
       "<style>#sk-container-id-1 {\n",
       "  /* Definition of color scheme common for light and dark mode */\n",
       "  --sklearn-color-text: #000;\n",
       "  --sklearn-color-text-muted: #666;\n",
       "  --sklearn-color-line: gray;\n",
       "  /* Definition of color scheme for unfitted estimators */\n",
       "  --sklearn-color-unfitted-level-0: #fff5e6;\n",
       "  --sklearn-color-unfitted-level-1: #f6e4d2;\n",
       "  --sklearn-color-unfitted-level-2: #ffe0b3;\n",
       "  --sklearn-color-unfitted-level-3: chocolate;\n",
       "  /* Definition of color scheme for fitted estimators */\n",
       "  --sklearn-color-fitted-level-0: #f0f8ff;\n",
       "  --sklearn-color-fitted-level-1: #d4ebff;\n",
       "  --sklearn-color-fitted-level-2: #b3dbfd;\n",
       "  --sklearn-color-fitted-level-3: cornflowerblue;\n",
       "\n",
       "  /* Specific color for light theme */\n",
       "  --sklearn-color-text-on-default-background: var(--sg-text-color, var(--theme-code-foreground, var(--jp-content-font-color1, black)));\n",
       "  --sklearn-color-background: var(--sg-background-color, var(--theme-background, var(--jp-layout-color0, white)));\n",
       "  --sklearn-color-border-box: var(--sg-text-color, var(--theme-code-foreground, var(--jp-content-font-color1, black)));\n",
       "  --sklearn-color-icon: #696969;\n",
       "\n",
       "  @media (prefers-color-scheme: dark) {\n",
       "    /* Redefinition of color scheme for dark theme */\n",
       "    --sklearn-color-text-on-default-background: var(--sg-text-color, var(--theme-code-foreground, var(--jp-content-font-color1, white)));\n",
       "    --sklearn-color-background: var(--sg-background-color, var(--theme-background, var(--jp-layout-color0, #111)));\n",
       "    --sklearn-color-border-box: var(--sg-text-color, var(--theme-code-foreground, var(--jp-content-font-color1, white)));\n",
       "    --sklearn-color-icon: #878787;\n",
       "  }\n",
       "}\n",
       "\n",
       "#sk-container-id-1 {\n",
       "  color: var(--sklearn-color-text);\n",
       "}\n",
       "\n",
       "#sk-container-id-1 pre {\n",
       "  padding: 0;\n",
       "}\n",
       "\n",
       "#sk-container-id-1 input.sk-hidden--visually {\n",
       "  border: 0;\n",
       "  clip: rect(1px 1px 1px 1px);\n",
       "  clip: rect(1px, 1px, 1px, 1px);\n",
       "  height: 1px;\n",
       "  margin: -1px;\n",
       "  overflow: hidden;\n",
       "  padding: 0;\n",
       "  position: absolute;\n",
       "  width: 1px;\n",
       "}\n",
       "\n",
       "#sk-container-id-1 div.sk-dashed-wrapped {\n",
       "  border: 1px dashed var(--sklearn-color-line);\n",
       "  margin: 0 0.4em 0.5em 0.4em;\n",
       "  box-sizing: border-box;\n",
       "  padding-bottom: 0.4em;\n",
       "  background-color: var(--sklearn-color-background);\n",
       "}\n",
       "\n",
       "#sk-container-id-1 div.sk-container {\n",
       "  /* jupyter's `normalize.less` sets `[hidden] { display: none; }`\n",
       "     but bootstrap.min.css set `[hidden] { display: none !important; }`\n",
       "     so we also need the `!important` here to be able to override the\n",
       "     default hidden behavior on the sphinx rendered scikit-learn.org.\n",
       "     See: https://github.com/scikit-learn/scikit-learn/issues/21755 */\n",
       "  display: inline-block !important;\n",
       "  position: relative;\n",
       "}\n",
       "\n",
       "#sk-container-id-1 div.sk-text-repr-fallback {\n",
       "  display: none;\n",
       "}\n",
       "\n",
       "div.sk-parallel-item,\n",
       "div.sk-serial,\n",
       "div.sk-item {\n",
       "  /* draw centered vertical line to link estimators */\n",
       "  background-image: linear-gradient(var(--sklearn-color-text-on-default-background), var(--sklearn-color-text-on-default-background));\n",
       "  background-size: 2px 100%;\n",
       "  background-repeat: no-repeat;\n",
       "  background-position: center center;\n",
       "}\n",
       "\n",
       "/* Parallel-specific style estimator block */\n",
       "\n",
       "#sk-container-id-1 div.sk-parallel-item::after {\n",
       "  content: \"\";\n",
       "  width: 100%;\n",
       "  border-bottom: 2px solid var(--sklearn-color-text-on-default-background);\n",
       "  flex-grow: 1;\n",
       "}\n",
       "\n",
       "#sk-container-id-1 div.sk-parallel {\n",
       "  display: flex;\n",
       "  align-items: stretch;\n",
       "  justify-content: center;\n",
       "  background-color: var(--sklearn-color-background);\n",
       "  position: relative;\n",
       "}\n",
       "\n",
       "#sk-container-id-1 div.sk-parallel-item {\n",
       "  display: flex;\n",
       "  flex-direction: column;\n",
       "}\n",
       "\n",
       "#sk-container-id-1 div.sk-parallel-item:first-child::after {\n",
       "  align-self: flex-end;\n",
       "  width: 50%;\n",
       "}\n",
       "\n",
       "#sk-container-id-1 div.sk-parallel-item:last-child::after {\n",
       "  align-self: flex-start;\n",
       "  width: 50%;\n",
       "}\n",
       "\n",
       "#sk-container-id-1 div.sk-parallel-item:only-child::after {\n",
       "  width: 0;\n",
       "}\n",
       "\n",
       "/* Serial-specific style estimator block */\n",
       "\n",
       "#sk-container-id-1 div.sk-serial {\n",
       "  display: flex;\n",
       "  flex-direction: column;\n",
       "  align-items: center;\n",
       "  background-color: var(--sklearn-color-background);\n",
       "  padding-right: 1em;\n",
       "  padding-left: 1em;\n",
       "}\n",
       "\n",
       "\n",
       "/* Toggleable style: style used for estimator/Pipeline/ColumnTransformer box that is\n",
       "clickable and can be expanded/collapsed.\n",
       "- Pipeline and ColumnTransformer use this feature and define the default style\n",
       "- Estimators will overwrite some part of the style using the `sk-estimator` class\n",
       "*/\n",
       "\n",
       "/* Pipeline and ColumnTransformer style (default) */\n",
       "\n",
       "#sk-container-id-1 div.sk-toggleable {\n",
       "  /* Default theme specific background. It is overwritten whether we have a\n",
       "  specific estimator or a Pipeline/ColumnTransformer */\n",
       "  background-color: var(--sklearn-color-background);\n",
       "}\n",
       "\n",
       "/* Toggleable label */\n",
       "#sk-container-id-1 label.sk-toggleable__label {\n",
       "  cursor: pointer;\n",
       "  display: flex;\n",
       "  width: 100%;\n",
       "  margin-bottom: 0;\n",
       "  padding: 0.5em;\n",
       "  box-sizing: border-box;\n",
       "  text-align: center;\n",
       "  align-items: start;\n",
       "  justify-content: space-between;\n",
       "  gap: 0.5em;\n",
       "}\n",
       "\n",
       "#sk-container-id-1 label.sk-toggleable__label .caption {\n",
       "  font-size: 0.6rem;\n",
       "  font-weight: lighter;\n",
       "  color: var(--sklearn-color-text-muted);\n",
       "}\n",
       "\n",
       "#sk-container-id-1 label.sk-toggleable__label-arrow:before {\n",
       "  /* Arrow on the left of the label */\n",
       "  content: \"▸\";\n",
       "  float: left;\n",
       "  margin-right: 0.25em;\n",
       "  color: var(--sklearn-color-icon);\n",
       "}\n",
       "\n",
       "#sk-container-id-1 label.sk-toggleable__label-arrow:hover:before {\n",
       "  color: var(--sklearn-color-text);\n",
       "}\n",
       "\n",
       "/* Toggleable content - dropdown */\n",
       "\n",
       "#sk-container-id-1 div.sk-toggleable__content {\n",
       "  max-height: 0;\n",
       "  max-width: 0;\n",
       "  overflow: hidden;\n",
       "  text-align: left;\n",
       "  /* unfitted */\n",
       "  background-color: var(--sklearn-color-unfitted-level-0);\n",
       "}\n",
       "\n",
       "#sk-container-id-1 div.sk-toggleable__content.fitted {\n",
       "  /* fitted */\n",
       "  background-color: var(--sklearn-color-fitted-level-0);\n",
       "}\n",
       "\n",
       "#sk-container-id-1 div.sk-toggleable__content pre {\n",
       "  margin: 0.2em;\n",
       "  border-radius: 0.25em;\n",
       "  color: var(--sklearn-color-text);\n",
       "  /* unfitted */\n",
       "  background-color: var(--sklearn-color-unfitted-level-0);\n",
       "}\n",
       "\n",
       "#sk-container-id-1 div.sk-toggleable__content.fitted pre {\n",
       "  /* unfitted */\n",
       "  background-color: var(--sklearn-color-fitted-level-0);\n",
       "}\n",
       "\n",
       "#sk-container-id-1 input.sk-toggleable__control:checked~div.sk-toggleable__content {\n",
       "  /* Expand drop-down */\n",
       "  max-height: 200px;\n",
       "  max-width: 100%;\n",
       "  overflow: auto;\n",
       "}\n",
       "\n",
       "#sk-container-id-1 input.sk-toggleable__control:checked~label.sk-toggleable__label-arrow:before {\n",
       "  content: \"▾\";\n",
       "}\n",
       "\n",
       "/* Pipeline/ColumnTransformer-specific style */\n",
       "\n",
       "#sk-container-id-1 div.sk-label input.sk-toggleable__control:checked~label.sk-toggleable__label {\n",
       "  color: var(--sklearn-color-text);\n",
       "  background-color: var(--sklearn-color-unfitted-level-2);\n",
       "}\n",
       "\n",
       "#sk-container-id-1 div.sk-label.fitted input.sk-toggleable__control:checked~label.sk-toggleable__label {\n",
       "  background-color: var(--sklearn-color-fitted-level-2);\n",
       "}\n",
       "\n",
       "/* Estimator-specific style */\n",
       "\n",
       "/* Colorize estimator box */\n",
       "#sk-container-id-1 div.sk-estimator input.sk-toggleable__control:checked~label.sk-toggleable__label {\n",
       "  /* unfitted */\n",
       "  background-color: var(--sklearn-color-unfitted-level-2);\n",
       "}\n",
       "\n",
       "#sk-container-id-1 div.sk-estimator.fitted input.sk-toggleable__control:checked~label.sk-toggleable__label {\n",
       "  /* fitted */\n",
       "  background-color: var(--sklearn-color-fitted-level-2);\n",
       "}\n",
       "\n",
       "#sk-container-id-1 div.sk-label label.sk-toggleable__label,\n",
       "#sk-container-id-1 div.sk-label label {\n",
       "  /* The background is the default theme color */\n",
       "  color: var(--sklearn-color-text-on-default-background);\n",
       "}\n",
       "\n",
       "/* On hover, darken the color of the background */\n",
       "#sk-container-id-1 div.sk-label:hover label.sk-toggleable__label {\n",
       "  color: var(--sklearn-color-text);\n",
       "  background-color: var(--sklearn-color-unfitted-level-2);\n",
       "}\n",
       "\n",
       "/* Label box, darken color on hover, fitted */\n",
       "#sk-container-id-1 div.sk-label.fitted:hover label.sk-toggleable__label.fitted {\n",
       "  color: var(--sklearn-color-text);\n",
       "  background-color: var(--sklearn-color-fitted-level-2);\n",
       "}\n",
       "\n",
       "/* Estimator label */\n",
       "\n",
       "#sk-container-id-1 div.sk-label label {\n",
       "  font-family: monospace;\n",
       "  font-weight: bold;\n",
       "  display: inline-block;\n",
       "  line-height: 1.2em;\n",
       "}\n",
       "\n",
       "#sk-container-id-1 div.sk-label-container {\n",
       "  text-align: center;\n",
       "}\n",
       "\n",
       "/* Estimator-specific */\n",
       "#sk-container-id-1 div.sk-estimator {\n",
       "  font-family: monospace;\n",
       "  border: 1px dotted var(--sklearn-color-border-box);\n",
       "  border-radius: 0.25em;\n",
       "  box-sizing: border-box;\n",
       "  margin-bottom: 0.5em;\n",
       "  /* unfitted */\n",
       "  background-color: var(--sklearn-color-unfitted-level-0);\n",
       "}\n",
       "\n",
       "#sk-container-id-1 div.sk-estimator.fitted {\n",
       "  /* fitted */\n",
       "  background-color: var(--sklearn-color-fitted-level-0);\n",
       "}\n",
       "\n",
       "/* on hover */\n",
       "#sk-container-id-1 div.sk-estimator:hover {\n",
       "  /* unfitted */\n",
       "  background-color: var(--sklearn-color-unfitted-level-2);\n",
       "}\n",
       "\n",
       "#sk-container-id-1 div.sk-estimator.fitted:hover {\n",
       "  /* fitted */\n",
       "  background-color: var(--sklearn-color-fitted-level-2);\n",
       "}\n",
       "\n",
       "/* Specification for estimator info (e.g. \"i\" and \"?\") */\n",
       "\n",
       "/* Common style for \"i\" and \"?\" */\n",
       "\n",
       ".sk-estimator-doc-link,\n",
       "a:link.sk-estimator-doc-link,\n",
       "a:visited.sk-estimator-doc-link {\n",
       "  float: right;\n",
       "  font-size: smaller;\n",
       "  line-height: 1em;\n",
       "  font-family: monospace;\n",
       "  background-color: var(--sklearn-color-background);\n",
       "  border-radius: 1em;\n",
       "  height: 1em;\n",
       "  width: 1em;\n",
       "  text-decoration: none !important;\n",
       "  margin-left: 0.5em;\n",
       "  text-align: center;\n",
       "  /* unfitted */\n",
       "  border: var(--sklearn-color-unfitted-level-1) 1pt solid;\n",
       "  color: var(--sklearn-color-unfitted-level-1);\n",
       "}\n",
       "\n",
       ".sk-estimator-doc-link.fitted,\n",
       "a:link.sk-estimator-doc-link.fitted,\n",
       "a:visited.sk-estimator-doc-link.fitted {\n",
       "  /* fitted */\n",
       "  border: var(--sklearn-color-fitted-level-1) 1pt solid;\n",
       "  color: var(--sklearn-color-fitted-level-1);\n",
       "}\n",
       "\n",
       "/* On hover */\n",
       "div.sk-estimator:hover .sk-estimator-doc-link:hover,\n",
       ".sk-estimator-doc-link:hover,\n",
       "div.sk-label-container:hover .sk-estimator-doc-link:hover,\n",
       ".sk-estimator-doc-link:hover {\n",
       "  /* unfitted */\n",
       "  background-color: var(--sklearn-color-unfitted-level-3);\n",
       "  color: var(--sklearn-color-background);\n",
       "  text-decoration: none;\n",
       "}\n",
       "\n",
       "div.sk-estimator.fitted:hover .sk-estimator-doc-link.fitted:hover,\n",
       ".sk-estimator-doc-link.fitted:hover,\n",
       "div.sk-label-container:hover .sk-estimator-doc-link.fitted:hover,\n",
       ".sk-estimator-doc-link.fitted:hover {\n",
       "  /* fitted */\n",
       "  background-color: var(--sklearn-color-fitted-level-3);\n",
       "  color: var(--sklearn-color-background);\n",
       "  text-decoration: none;\n",
       "}\n",
       "\n",
       "/* Span, style for the box shown on hovering the info icon */\n",
       ".sk-estimator-doc-link span {\n",
       "  display: none;\n",
       "  z-index: 9999;\n",
       "  position: relative;\n",
       "  font-weight: normal;\n",
       "  right: .2ex;\n",
       "  padding: .5ex;\n",
       "  margin: .5ex;\n",
       "  width: min-content;\n",
       "  min-width: 20ex;\n",
       "  max-width: 50ex;\n",
       "  color: var(--sklearn-color-text);\n",
       "  box-shadow: 2pt 2pt 4pt #999;\n",
       "  /* unfitted */\n",
       "  background: var(--sklearn-color-unfitted-level-0);\n",
       "  border: .5pt solid var(--sklearn-color-unfitted-level-3);\n",
       "}\n",
       "\n",
       ".sk-estimator-doc-link.fitted span {\n",
       "  /* fitted */\n",
       "  background: var(--sklearn-color-fitted-level-0);\n",
       "  border: var(--sklearn-color-fitted-level-3);\n",
       "}\n",
       "\n",
       ".sk-estimator-doc-link:hover span {\n",
       "  display: block;\n",
       "}\n",
       "\n",
       "/* \"?\"-specific style due to the `<a>` HTML tag */\n",
       "\n",
       "#sk-container-id-1 a.estimator_doc_link {\n",
       "  float: right;\n",
       "  font-size: 1rem;\n",
       "  line-height: 1em;\n",
       "  font-family: monospace;\n",
       "  background-color: var(--sklearn-color-background);\n",
       "  border-radius: 1rem;\n",
       "  height: 1rem;\n",
       "  width: 1rem;\n",
       "  text-decoration: none;\n",
       "  /* unfitted */\n",
       "  color: var(--sklearn-color-unfitted-level-1);\n",
       "  border: var(--sklearn-color-unfitted-level-1) 1pt solid;\n",
       "}\n",
       "\n",
       "#sk-container-id-1 a.estimator_doc_link.fitted {\n",
       "  /* fitted */\n",
       "  border: var(--sklearn-color-fitted-level-1) 1pt solid;\n",
       "  color: var(--sklearn-color-fitted-level-1);\n",
       "}\n",
       "\n",
       "/* On hover */\n",
       "#sk-container-id-1 a.estimator_doc_link:hover {\n",
       "  /* unfitted */\n",
       "  background-color: var(--sklearn-color-unfitted-level-3);\n",
       "  color: var(--sklearn-color-background);\n",
       "  text-decoration: none;\n",
       "}\n",
       "\n",
       "#sk-container-id-1 a.estimator_doc_link.fitted:hover {\n",
       "  /* fitted */\n",
       "  background-color: var(--sklearn-color-fitted-level-3);\n",
       "}\n",
       "</style><div id=\"sk-container-id-1\" class=\"sk-top-container\"><div class=\"sk-text-repr-fallback\"><pre>Pipeline(steps=[(&#x27;preprocessor&#x27;,\n",
       "                 ColumnTransformer(transformers=[(&#x27;num&#x27;,\n",
       "                                                  Pipeline(steps=[(&#x27;power&#x27;,\n",
       "                                                                   PowerTransformer())]),\n",
       "                                                  [&#x27;Mg&#x27;, &#x27;Ca&#x27;, &#x27;K&#x27;, &#x27;Al&#x27;, &#x27;RI&#x27;,\n",
       "                                                   &#x27;Si&#x27;, &#x27;Na&#x27;, &#x27;Ba&#x27;])])),\n",
       "                (&#x27;classifier&#x27;,\n",
       "                 RandomForestClassifier(bootstrap=False,\n",
       "                                        class_weight=&#x27;balanced&#x27;,\n",
       "                                        n_estimators=200, random_state=42))])</pre><b>In a Jupyter environment, please rerun this cell to show the HTML representation or trust the notebook. <br />On GitHub, the HTML representation is unable to render, please try loading this page with nbviewer.org.</b></div><div class=\"sk-container\" hidden><div class=\"sk-item sk-dashed-wrapped\"><div class=\"sk-label-container\"><div class=\"sk-label fitted sk-toggleable\"><input class=\"sk-toggleable__control sk-hidden--visually\" id=\"sk-estimator-id-1\" type=\"checkbox\" ><label for=\"sk-estimator-id-1\" class=\"sk-toggleable__label fitted sk-toggleable__label-arrow\"><div><div>Pipeline</div></div><div><a class=\"sk-estimator-doc-link fitted\" rel=\"noreferrer\" target=\"_blank\" href=\"https://scikit-learn.org/1.6/modules/generated/sklearn.pipeline.Pipeline.html\">?<span>Documentation for Pipeline</span></a><span class=\"sk-estimator-doc-link fitted\">i<span>Fitted</span></span></div></label><div class=\"sk-toggleable__content fitted\"><pre>Pipeline(steps=[(&#x27;preprocessor&#x27;,\n",
       "                 ColumnTransformer(transformers=[(&#x27;num&#x27;,\n",
       "                                                  Pipeline(steps=[(&#x27;power&#x27;,\n",
       "                                                                   PowerTransformer())]),\n",
       "                                                  [&#x27;Mg&#x27;, &#x27;Ca&#x27;, &#x27;K&#x27;, &#x27;Al&#x27;, &#x27;RI&#x27;,\n",
       "                                                   &#x27;Si&#x27;, &#x27;Na&#x27;, &#x27;Ba&#x27;])])),\n",
       "                (&#x27;classifier&#x27;,\n",
       "                 RandomForestClassifier(bootstrap=False,\n",
       "                                        class_weight=&#x27;balanced&#x27;,\n",
       "                                        n_estimators=200, random_state=42))])</pre></div> </div></div><div class=\"sk-serial\"><div class=\"sk-item sk-dashed-wrapped\"><div class=\"sk-label-container\"><div class=\"sk-label fitted sk-toggleable\"><input class=\"sk-toggleable__control sk-hidden--visually\" id=\"sk-estimator-id-2\" type=\"checkbox\" ><label for=\"sk-estimator-id-2\" class=\"sk-toggleable__label fitted sk-toggleable__label-arrow\"><div><div>preprocessor: ColumnTransformer</div></div><div><a class=\"sk-estimator-doc-link fitted\" rel=\"noreferrer\" target=\"_blank\" href=\"https://scikit-learn.org/1.6/modules/generated/sklearn.compose.ColumnTransformer.html\">?<span>Documentation for preprocessor: ColumnTransformer</span></a></div></label><div class=\"sk-toggleable__content fitted\"><pre>ColumnTransformer(transformers=[(&#x27;num&#x27;,\n",
       "                                 Pipeline(steps=[(&#x27;power&#x27;,\n",
       "                                                  PowerTransformer())]),\n",
       "                                 [&#x27;Mg&#x27;, &#x27;Ca&#x27;, &#x27;K&#x27;, &#x27;Al&#x27;, &#x27;RI&#x27;, &#x27;Si&#x27;, &#x27;Na&#x27;,\n",
       "                                  &#x27;Ba&#x27;])])</pre></div> </div></div><div class=\"sk-parallel\"><div class=\"sk-parallel-item\"><div class=\"sk-item\"><div class=\"sk-label-container\"><div class=\"sk-label fitted sk-toggleable\"><input class=\"sk-toggleable__control sk-hidden--visually\" id=\"sk-estimator-id-3\" type=\"checkbox\" ><label for=\"sk-estimator-id-3\" class=\"sk-toggleable__label fitted sk-toggleable__label-arrow\"><div><div>num</div></div></label><div class=\"sk-toggleable__content fitted\"><pre>[&#x27;Mg&#x27;, &#x27;Ca&#x27;, &#x27;K&#x27;, &#x27;Al&#x27;, &#x27;RI&#x27;, &#x27;Si&#x27;, &#x27;Na&#x27;, &#x27;Ba&#x27;]</pre></div> </div></div><div class=\"sk-serial\"><div class=\"sk-item\"><div class=\"sk-serial\"><div class=\"sk-item\"><div class=\"sk-estimator fitted sk-toggleable\"><input class=\"sk-toggleable__control sk-hidden--visually\" id=\"sk-estimator-id-4\" type=\"checkbox\" ><label for=\"sk-estimator-id-4\" class=\"sk-toggleable__label fitted sk-toggleable__label-arrow\"><div><div>PowerTransformer</div></div><div><a class=\"sk-estimator-doc-link fitted\" rel=\"noreferrer\" target=\"_blank\" href=\"https://scikit-learn.org/1.6/modules/generated/sklearn.preprocessing.PowerTransformer.html\">?<span>Documentation for PowerTransformer</span></a></div></label><div class=\"sk-toggleable__content fitted\"><pre>PowerTransformer()</pre></div> </div></div></div></div></div></div></div></div></div><div class=\"sk-item\"><div class=\"sk-estimator fitted sk-toggleable\"><input class=\"sk-toggleable__control sk-hidden--visually\" id=\"sk-estimator-id-5\" type=\"checkbox\" ><label for=\"sk-estimator-id-5\" class=\"sk-toggleable__label fitted sk-toggleable__label-arrow\"><div><div>RandomForestClassifier</div></div><div><a class=\"sk-estimator-doc-link fitted\" rel=\"noreferrer\" target=\"_blank\" href=\"https://scikit-learn.org/1.6/modules/generated/sklearn.ensemble.RandomForestClassifier.html\">?<span>Documentation for RandomForestClassifier</span></a></div></label><div class=\"sk-toggleable__content fitted\"><pre>RandomForestClassifier(bootstrap=False, class_weight=&#x27;balanced&#x27;,\n",
       "                       n_estimators=200, random_state=42)</pre></div> </div></div></div></div></div></div>"
      ],
      "text/plain": [
       "Pipeline(steps=[('preprocessor',\n",
       "                 ColumnTransformer(transformers=[('num',\n",
       "                                                  Pipeline(steps=[('power',\n",
       "                                                                   PowerTransformer())]),\n",
       "                                                  ['Mg', 'Ca', 'K', 'Al', 'RI',\n",
       "                                                   'Si', 'Na', 'Ba'])])),\n",
       "                ('classifier',\n",
       "                 RandomForestClassifier(bootstrap=False,\n",
       "                                        class_weight='balanced',\n",
       "                                        n_estimators=200, random_state=42))])"
      ]
     },
     "execution_count": 25,
     "metadata": {},
     "output_type": "execute_result"
    }
   ],
   "source": [
    "final_model = Pipeline(steps=[\n",
    "    ('preprocessor', preprocessor),\n",
    "    ('classifier', best_rf_model)\n",
    "])\n",
    "final_model.fit(X_train, y_train)"
   ]
  },
  {
   "cell_type": "markdown",
   "id": "bd3659cd",
   "metadata": {},
   "source": [
    "## Evaluation and comparison"
   ]
  },
  {
   "cell_type": "markdown",
   "id": "05993a43",
   "metadata": {},
   "source": [
    "### Короткий опис дій:\n",
    "Масштабуємо ознаки (видаляємо 2 колонки, потім робимо стандартизацію). Перенумеровуємо класи, виключаючи відсутні у даних. Кодуємо цільові мітки у one-hot формат. Ініціалізуємо нейронну мережу з двома прихованими шарами і softmax на виході. Навчаємо мережу з ранньою зупинкою та нормалізацією."
   ]
  },
  {
   "cell_type": "code",
   "execution_count": 26,
   "id": "f8ae0425",
   "metadata": {},
   "outputs": [
    {
     "name": "stdout",
     "output_type": "stream",
     "text": [
      "0-th iteration: cost = 1.7917774696166209\n",
      "100-th iteration: cost = 1.7916819717251122\n",
      "200-th iteration: cost = 1.7916194797881335\n",
      "300-th iteration: cost = 1.7915333786220888\n",
      "400-th iteration: cost = 1.791396762696141\n",
      "500-th iteration: cost = 1.791165081483482\n",
      "600-th iteration: cost = 1.7907240599392515\n",
      "700-th iteration: cost = 1.7897462201954804\n",
      "800-th iteration: cost = 1.7869753334653047\n",
      "900-th iteration: cost = 1.7749255107333037\n",
      "1000-th iteration: cost = 1.654887201701681\n",
      "1100-th iteration: cost = 1.3776281043078429\n",
      "1200-th iteration: cost = 1.1899484046760223\n",
      "1300-th iteration: cost = 0.9528994295802437\n",
      "1400-th iteration: cost = 0.8502592160095466\n",
      "1500-th iteration: cost = 0.7623721661705731\n",
      "1600-th iteration: cost = 0.6916478586268257\n",
      "1700-th iteration: cost = 0.6417739535914329\n",
      "1800-th iteration: cost = 0.6036857379339502\n",
      "1900-th iteration: cost = 0.5747877300745312\n",
      "2000-th iteration: cost = 0.5515924174020315\n",
      "2100-th iteration: cost = 0.5303365549427145\n",
      "2200-th iteration: cost = 0.5080873480718383\n",
      "2300-th iteration: cost = 0.4838321067597652\n",
      "2400-th iteration: cost = 0.45909894198621576\n",
      "2500-th iteration: cost = 0.4366482321780895\n",
      "2600-th iteration: cost = 0.4164155350209334\n",
      "2700-th iteration: cost = 0.39896638984351523\n",
      "2800-th iteration: cost = 0.382792704593549\n",
      "2900-th iteration: cost = 0.3666682706206991\n",
      "3000-th iteration: cost = 0.35067097146629395\n",
      "3100-th iteration: cost = 0.3339995966231279\n",
      "3200-th iteration: cost = 0.3178633131994535\n",
      "3300-th iteration: cost = 0.30297561507145454\n",
      "3400-th iteration: cost = 0.28971711111869863\n",
      "3500-th iteration: cost = 0.27793543374488644\n",
      "3600-th iteration: cost = 0.2670808818312514\n",
      "3700-th iteration: cost = 0.2572422326196744\n",
      "3800-th iteration: cost = 0.24836245161925255\n",
      "3900-th iteration: cost = 0.23988674609110874\n",
      "4000-th iteration: cost = 0.23183369480577315\n",
      "4100-th iteration: cost = 0.2239303144252082\n",
      "4200-th iteration: cost = 0.21650381395813467\n",
      "4300-th iteration: cost = 0.2093955547551357\n",
      "4400-th iteration: cost = 0.2024259392057546\n",
      "4500-th iteration: cost = 0.1954519108993908\n",
      "4600-th iteration: cost = 0.18836634550436254\n",
      "4700-th iteration: cost = 0.18174607692715922\n",
      "4800-th iteration: cost = 0.17545922156902052\n",
      "4900-th iteration: cost = 0.16950058695301157\n",
      "5000-th iteration: cost = 0.1639549545614081\n",
      "5100-th iteration: cost = 0.15875459765260835\n",
      "5200-th iteration: cost = 0.15388551919528123\n",
      "5300-th iteration: cost = 0.14939165453796732\n",
      "5400-th iteration: cost = 0.14510593609486278\n",
      "5500-th iteration: cost = 0.14113574862486872\n",
      "5600-th iteration: cost = 0.13742151016148596\n",
      "5700-th iteration: cost = 0.13396914852740457\n",
      "5800-th iteration: cost = 0.13080036454857197\n",
      "5900-th iteration: cost = 0.12786397049241358\n",
      "6000-th iteration: cost = 0.12509492367425099\n",
      "6100-th iteration: cost = 0.12251895376837689\n",
      "6200-th iteration: cost = 0.12010777437592701\n",
      "6300-th iteration: cost = 0.11781770203614757\n",
      "6400-th iteration: cost = 0.11565383848192398\n",
      "6500-th iteration: cost = 0.11323921223918577\n",
      "6600-th iteration: cost = 0.11120010636364717\n",
      "6700-th iteration: cost = 0.10913283447459882\n",
      "6800-th iteration: cost = 0.10714642671090474\n",
      "6900-th iteration: cost = 0.10521781640428822\n",
      "7000-th iteration: cost = 0.10339783434836755\n",
      "7100-th iteration: cost = 0.10163771836973376\n",
      "7200-th iteration: cost = 0.09995432125053542\n",
      "7300-th iteration: cost = 0.0983579773868398\n",
      "7400-th iteration: cost = 0.09678852038908492\n",
      "7500-th iteration: cost = 0.09525131947979931\n",
      "7600-th iteration: cost = 0.09374234901732247\n",
      "7700-th iteration: cost = 0.09227799320733598\n",
      "7800-th iteration: cost = 0.09070891290255201\n",
      "7900-th iteration: cost = 0.08897412884357986\n",
      "8000-th iteration: cost = 0.08739393959067877\n",
      "8100-th iteration: cost = 0.08585433291172108\n",
      "8200-th iteration: cost = 0.08433035803586833\n",
      "8300-th iteration: cost = 0.08282698619787415\n",
      "8400-th iteration: cost = 0.08134487805539341\n",
      "8500-th iteration: cost = 0.07986680141538889\n",
      "8600-th iteration: cost = 0.07842565127684219\n",
      "8700-th iteration: cost = 0.07701178975015342\n",
      "8800-th iteration: cost = 0.07559491198818673\n",
      "8900-th iteration: cost = 0.07412743137641734\n",
      "9000-th iteration: cost = 0.07267210399799948\n",
      "9100-th iteration: cost = 0.07121405800530549\n",
      "9200-th iteration: cost = 0.0697579815123091\n",
      "9300-th iteration: cost = 0.06832354327847412\n",
      "9400-th iteration: cost = 0.06690799093736506\n",
      "9500-th iteration: cost = 0.06551203254972507\n",
      "9600-th iteration: cost = 0.06412934905972499\n",
      "9700-th iteration: cost = 0.06277827472201714\n",
      "9800-th iteration: cost = 0.06143067795469101\n",
      "9900-th iteration: cost = 0.06011073590668379\n",
      "10000-th iteration: cost = 0.058817502639496505\n",
      "10100-th iteration: cost = 0.0575471087475931\n",
      "10200-th iteration: cost = 0.05629507993377989\n",
      "10300-th iteration: cost = 0.05504914664791844\n",
      "10400-th iteration: cost = 0.05380501499636941\n",
      "10500-th iteration: cost = 0.05257763192480432\n",
      "10600-th iteration: cost = 0.051328186934282476\n",
      "10700-th iteration: cost = 0.04983929940061306\n",
      "10800-th iteration: cost = 0.0485995889503723\n",
      "10900-th iteration: cost = 0.0474178152338403\n",
      "11000-th iteration: cost = 0.046253635826483515\n",
      "11100-th iteration: cost = 0.04511072873150695\n",
      "11200-th iteration: cost = 0.043999243163725034\n",
      "11300-th iteration: cost = 0.04290530126157885\n",
      "11400-th iteration: cost = 0.04182703530117537\n",
      "11500-th iteration: cost = 0.0407453987947492\n",
      "11600-th iteration: cost = 0.03969215904097917\n",
      "11700-th iteration: cost = 0.03863732774052206\n",
      "11800-th iteration: cost = 0.037617592663474\n",
      "11900-th iteration: cost = 0.03661506600499115\n",
      "12000-th iteration: cost = 0.035653335928259956\n",
      "12100-th iteration: cost = 0.0347126733243909\n",
      "12200-th iteration: cost = 0.033821487021250034\n",
      "12300-th iteration: cost = 0.03295110947942286\n",
      "12400-th iteration: cost = 0.032103814418781226\n",
      "12500-th iteration: cost = 0.031211567634828307\n",
      "12600-th iteration: cost = 0.030367288109209373\n",
      "12700-th iteration: cost = 0.029563631113856324\n",
      "12800-th iteration: cost = 0.028798275284706257\n",
      "12900-th iteration: cost = 0.028070130449155295\n",
      "13000-th iteration: cost = 0.02735329839281075\n",
      "13100-th iteration: cost = 0.026664259022315544\n",
      "13200-th iteration: cost = 0.026001570891955438\n",
      "13300-th iteration: cost = 0.025349209935502486\n",
      "13400-th iteration: cost = 0.02474213731897599\n",
      "13500-th iteration: cost = 0.02414177027248925\n",
      "13600-th iteration: cost = 0.023561117943753433\n",
      "13700-th iteration: cost = 0.022993679857650183\n",
      "13800-th iteration: cost = 0.02244458579395306\n",
      "13900-th iteration: cost = 0.02191425897788565\n",
      "14000-th iteration: cost = 0.02139516892947221\n",
      "14100-th iteration: cost = 0.020900104910443234\n",
      "14200-th iteration: cost = 0.020404571558674294\n",
      "14300-th iteration: cost = 0.019910647378542704\n",
      "14400-th iteration: cost = 0.019424294155880633\n",
      "14500-th iteration: cost = 0.018964260849362265\n",
      "14600-th iteration: cost = 0.018516055386498344\n",
      "14700-th iteration: cost = 0.018077737774021534\n",
      "14800-th iteration: cost = 0.01764573555331686\n",
      "14900-th iteration: cost = 0.01723629966567876\n",
      "15000-th iteration: cost = 0.01683629392684643\n",
      "15100-th iteration: cost = 0.01644382658866179\n",
      "15200-th iteration: cost = 0.016065269836902103\n",
      "15300-th iteration: cost = 0.015694525669117974\n",
      "15400-th iteration: cost = 0.015332251651293599\n",
      "15500-th iteration: cost = 0.014964308052537883\n",
      "15600-th iteration: cost = 0.014594480162547207\n",
      "15700-th iteration: cost = 0.014267879003474777\n",
      "15800-th iteration: cost = 0.013953395450132085\n",
      "15900-th iteration: cost = 0.013647669880032142\n",
      "16000-th iteration: cost = 0.013346355012934012\n",
      "16100-th iteration: cost = 0.013052389915968233\n",
      "16200-th iteration: cost = 0.012763495625900581\n",
      "16300-th iteration: cost = 0.012486916652072239\n",
      "16400-th iteration: cost = 0.012224345564947989\n",
      "16500-th iteration: cost = 0.011965900394418706\n",
      "16600-th iteration: cost = 0.011712779309590297\n",
      "16700-th iteration: cost = 0.011466784820526894\n",
      "16800-th iteration: cost = 0.011235301413660748\n",
      "16900-th iteration: cost = 0.011007980163631552\n",
      "17000-th iteration: cost = 0.010792107956085118\n",
      "17100-th iteration: cost = 0.010573874552882693\n",
      "17200-th iteration: cost = 0.010364497401984507\n",
      "17300-th iteration: cost = 0.010163473607520342\n",
      "17400-th iteration: cost = 0.00997013536084561\n",
      "17500-th iteration: cost = 0.009777279941029681\n",
      "17600-th iteration: cost = 0.00959212382863158\n",
      "17700-th iteration: cost = 0.009410465319513985\n",
      "17800-th iteration: cost = 0.009234204750375312\n",
      "17900-th iteration: cost = 0.00906316243607697\n",
      "18000-th iteration: cost = 0.008894040336090734\n",
      "18100-th iteration: cost = 0.008732097369136787\n",
      "18200-th iteration: cost = 0.008572074566901525\n",
      "18300-th iteration: cost = 0.008417876929035572\n",
      "18400-th iteration: cost = 0.008269454678740623\n",
      "18500-th iteration: cost = 0.00812268786286837\n",
      "18600-th iteration: cost = 0.007981635184052491\n",
      "18700-th iteration: cost = 0.007842547253770607\n",
      "18800-th iteration: cost = 0.0077084136984182944\n",
      "18900-th iteration: cost = 0.007576063110459574\n",
      "19000-th iteration: cost = 0.00744153315432514\n",
      "19100-th iteration: cost = 0.0073095659714127285\n",
      "19200-th iteration: cost = 0.007183217691074107\n",
      "19300-th iteration: cost = 0.007060892848259198\n",
      "19400-th iteration: cost = 0.006936730697477002\n",
      "19500-th iteration: cost = 0.006803094744997752\n",
      "19600-th iteration: cost = 0.006658609043120235\n",
      "19700-th iteration: cost = 0.006551376092210034\n",
      "19800-th iteration: cost = 0.006443724999624786\n",
      "19900-th iteration: cost = 0.006339229864219877\n"
     ]
    },
    {
     "data": {
      "image/png": "[encoded data removed]",
      "text/plain": [
       "<Figure size 640x480 with 1 Axes>"
      ]
     },
     "metadata": {},
     "output_type": "display_data"
    }
   ],
   "source": [
    "# Масштабування ознак (видалено колонки 'Ba' і 'Fe', вони не потрібні (виявлено в ході експерименту))\n",
    "scaler = StandardScaler()\n",
    "X_train_scaled = scaler.fit_transform(X_train.drop(['Ba', 'Fe'], axis=1))\n",
    "X_test_scaled = scaler.transform(X_test.drop(['Ba', 'Fe'], axis=1))\n",
    "\n",
    "# Функція для перепризначення (перенумерації) класів, \n",
    "# щоб виключити відсутні в даних класи (0 та 4) та зробити номери класів послідовними\n",
    "def reassign_labels(y, mapping):\n",
    "    y_new = np.copy(y)\n",
    "    for old, new in mapping.items():\n",
    "        y_new[y == old] = new\n",
    "    return y_new\n",
    "\n",
    "# Визначення відповідності старих класів новим без пропусків\n",
    "mapping = {1:0, 2:1, 3:2, 5:3, 6:4, 7:5}\n",
    "# Перепризначення класів для тренувальних та тестових міток\n",
    "y_train_new = reassign_labels(y_train.to_numpy().flatten(), mapping)\n",
    "y_test_new = reassign_labels(y_test.to_numpy().flatten(), mapping)\n",
    "\n",
    "# Кодування нових міток у формат one-hot (потрібно для softmax-активації)\n",
    "encoder = OneHotEncoder(sparse_output=False)\n",
    "y_train_onehot = encoder.fit_transform(y_train_new.reshape(-1,1))\n",
    "\n",
    "# Ініціалізація нейронної мережі з двома прихованими шарами та softmax на виході\n",
    "nn = NeuralNet(\n",
    "    hidden_layers=[100, 50],\n",
    "    hidden_activations=['relu', 'relu'],\n",
    "    output_activation='softmax',\n",
    "    learning_rate=0.05,\n",
    "    num_iter=20000,\n",
    "    normalize=True,\n",
    "    early_stopping=True,\n",
    "    patience=1000\n",
    ")\n",
    "nn.fit(X_train_scaled, y_train_onehot)"
   ]
  },
  {
   "cell_type": "code",
   "execution_count": 27,
   "id": "b078ab75",
   "metadata": {},
   "outputs": [
    {
     "name": "stdout",
     "output_type": "stream",
     "text": [
      "\n",
      "Test Set Evaluation for DNN:\n",
      "Accuracy: 0.7441860465116279\n",
      "Classification Report:\n",
      "               precision    recall  f1-score   support\n",
      "\n",
      "           0       0.90      0.64      0.75        14\n",
      "           1       0.73      0.73      0.73        15\n",
      "           2       0.50      1.00      0.67         3\n",
      "           3       1.00      0.67      0.80         3\n",
      "           4       0.50      0.50      0.50         2\n",
      "           5       0.75      1.00      0.86         6\n",
      "\n",
      "    accuracy                           0.74        43\n",
      "   macro avg       0.73      0.76      0.72        43\n",
      "weighted avg       0.78      0.74      0.75        43\n",
      "\n",
      "Confusion Matrix:\n",
      " [[ 9  3  2  0  0  0]\n",
      " [ 1 11  1  0  1  1]\n",
      " [ 0  0  3  0  0  0]\n",
      " [ 0  1  0  2  0  0]\n",
      " [ 0  0  0  0  1  1]\n",
      " [ 0  0  0  0  0  6]]\n"
     ]
    }
   ],
   "source": [
    "# Отримання передбачень\n",
    "y_pred = nn.predict(X_test_scaled)\n",
    "\n",
    "# Вивід метрик\n",
    "print(\"\\nTest Set Evaluation for DNN:\")\n",
    "print(\"Accuracy:\", accuracy_score(y_test_new, y_pred))\n",
    "print(\"Classification Report:\\n\", classification_report(y_test_new, y_pred))\n",
    "print(\"Confusion Matrix:\\n\", confusion_matrix(y_test_new, y_pred))\n"
   ]
  },
  {
   "cell_type": "code",
   "execution_count": 28,
   "id": "8ece3ba6",
   "metadata": {},
   "outputs": [
    {
     "name": "stdout",
     "output_type": "stream",
     "text": [
      "\n",
      "Test Set Evaluation for RF:\n",
      "Accuracy: 0.7906976744186046\n",
      "Classification Report:\n",
      "               precision    recall  f1-score   support\n",
      "\n",
      "           1       0.92      0.79      0.85        14\n",
      "           2       0.83      0.67      0.74        15\n",
      "           3       0.43      1.00      0.60         3\n",
      "           5       1.00      1.00      1.00         3\n",
      "           6       0.67      1.00      0.80         2\n",
      "           7       0.83      0.83      0.83         6\n",
      "\n",
      "    accuracy                           0.79        43\n",
      "   macro avg       0.78      0.88      0.80        43\n",
      "weighted avg       0.84      0.79      0.80        43\n",
      "\n",
      "Confusion Matrix:\n",
      " [[11  1  2  0  0  0]\n",
      " [ 1 10  2  0  1  1]\n",
      " [ 0  0  3  0  0  0]\n",
      " [ 0  0  0  3  0  0]\n",
      " [ 0  0  0  0  2  0]\n",
      " [ 0  1  0  0  0  5]]\n"
     ]
    }
   ],
   "source": [
    "# Отримання передбачень\n",
    "y_pred = final_model.predict(X_test)\n",
    "\n",
    "# Вивід метрик\n",
    "print(\"\\nTest Set Evaluation for RF:\")\n",
    "print(\"Accuracy:\", accuracy_score(y_test, y_pred))\n",
    "print(\"Classification Report:\\n\", classification_report(y_test, y_pred))\n",
    "print(\"Confusion Matrix:\\n\", confusion_matrix(y_test, y_pred))\n"
   ]
  },
  {
   "cell_type": "code",
   "execution_count": 29,
   "id": "314eb548",
   "metadata": {},
   "outputs": [
    {
     "name": "stdout",
     "output_type": "stream",
     "text": [
      "Model saved to ../models/glass_best_model.pkl\n"
     ]
    }
   ],
   "source": [
    "# Збереження моделі\n",
    "model_path = '../models/glass_best_model.pkl'\n",
    "\n",
    "joblib.dump(final_model, model_path)\n",
    "print(f\"Model saved to {model_path}\")"
   ]
  },
  {
   "cell_type": "markdown",
   "id": "f2dbd83f",
   "metadata": {},
   "source": [
    "# Висновок\n",
    "\n",
    "У цьому проєкті було проведено комплексний аналіз класифікації типів скла з використанням різних моделей машинного навчання. \n",
    "- **EDA та Preprocessing**: Спочатку дані пройшли очистку від викидів методом IQR, а також було застосовано балансування класів за допомогою SMOTE для покращення якості навчання. Для попередньої обробки ознак використовували трансформацію Yeo-Johnson, що допомагає нормалізувати розподіл ознак.\n",
    "- **Model Selection**: Далі були порівняні кілька класифікаторів, зокрема Logistic Regression, KNN, Random Forest та Gradient Boosting, з оцінкою за допомогою крос-валідації. Найкращою моделлю виявився Random Forest, для якого було проведено тонкий підбір гіперпараметрів (GridSearchCV), що додатково покращило результати.\n",
    "- **Feature Selection and Hyperparameter Tuning**: Для оптимізації моделі було також проведено аналіз важливості ознак і вибір оптимального набору гіперпараметрів на основі їх внеску в класифікацію.\n",
    "- **RF comparsion with DNN**: Окрім класичних моделей, для порівняння була навчена глибока нейронна мережа (DNN). Хоча вона показала прийнятну точність (72%), Random Forest продемонстрував вищу точність (79%) та кращу збалансованість метрик якості (precision, recall, f1-score).\n",
    "\n",
    "Отже, результати свідчать, що для задачі класифікації типів скла класичний алгоритм Random Forest із попередньою обробкою та тюнінгом гіперпараметрів є більш ефективним і стабільним, ніж нейронна мережа на цих даних.\n"
   ]
  }
 ],
 "metadata": {
  "kernelspec": {
   "display_name": ".venv",
   "language": "python",
   "name": "python3"
  },
  "language_info": {
   "codemirror_mode": {
    "name": "ipython",
    "version": 3
   },
   "file_extension": ".py",
   "mimetype": "text/x-python",
   "name": "python",
   "nbconvert_exporter": "python",
   "pygments_lexer": "ipython3",
   "version": "3.13.2"
  }
 },
 "nbformat": 4,
 "nbformat_minor": 5
}
